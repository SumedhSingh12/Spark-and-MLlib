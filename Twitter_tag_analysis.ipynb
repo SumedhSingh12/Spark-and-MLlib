{
 "cells": [
  {
   "cell_type": "code",
   "execution_count": 1,
   "metadata": {},
   "outputs": [
    {
     "name": "stdout",
     "output_type": "stream",
     "text": [
      "Requirement already satisfied: pyspark in /anaconda3/lib/python3.7/site-packages (2.4.0)\n",
      "Requirement already satisfied: py4j==0.10.7 in /anaconda3/lib/python3.7/site-packages (from pyspark) (0.10.7)\n",
      "Requirement already satisfied: findspark in /anaconda3/lib/python3.7/site-packages (1.3.0)\n"
     ]
    }
   ],
   "source": [
    "!pip install pyspark\n",
    "!export SPARK_HOME=/opt/spark\n",
    "!export PATH=$SPARK_HOME/bin:$PATH\n",
    "!export PYSPARK_DRIVER_PYTHON=jupyter\n",
    "!export PYSPARK_DRIVER_PYTHON_OPTS='notebook'\n",
    "!pip install findspark\n",
    "from pyspark import SparkContext\n",
    "from pyspark.streaming import StreamingContext\n",
    "from pyspark.sql import SQLContext\n",
    "from pyspark.sql.functions import desc\n",
    "import time\n",
    "from IPython import display\n",
    "import matplotlib.pyplot as plt\n",
    "import seaborn as sns\n",
    "import tweepy\n",
    "from tweepy import OAuthHandler\n",
    "from tweepy import Stream\n",
    "from tweepy.streaming import StreamListener\n",
    "import socket\n",
    "import json\n",
    "from collections import namedtuple\n",
    "%matplotlib inline "
   ]
  },
  {
   "cell_type": "code",
   "execution_count": 2,
   "metadata": {},
   "outputs": [],
   "source": [
    "import threading\n",
    "import time\n",
    "import  socket\n",
    "def create_socket():\n",
    "    s = socket.socket()         \n",
    "    host = \"127.0.0.1\"     \n",
    "    port = 5555                 \n",
    "    s.bind((host, port))       \n",
    "    listen = TweetsListener(s)\n",
    "    print(\"Listening on port: %s \" % str(port))\n",
    "    s.listen(5)               \n",
    "    c, addr = s.accept()        \n",
    "    print( \"Received request from: \" + str( addr ) )\n",
    "    listen.sendData( c )"
   ]
  },
  {
   "cell_type": "code",
   "execution_count": 3,
   "metadata": {},
   "outputs": [],
   "source": [
    "class TweetsListener(StreamListener):\n",
    "    def __init__(self, csocket):\n",
    "        self.client_socket = csocket\n",
    "    def on_data(self, data):\n",
    "        try:\n",
    "            msg = json.loads( data )\n",
    "            self.client_socket.send( msg['text'].encode('utf-8') )\n",
    "            return True\n",
    "        except BaseException as e:\n",
    "            print(\"Error on_data: %s\" % str(e))\n",
    "        return True\n",
    "\n",
    "    def on_error(self, status):\n",
    "        print(status)\n",
    "        return True\n",
    "\n",
    "    def sendData(self, c_socket):\n",
    "        auth = OAuthHandler(consumer_key, consumer_secret)\n",
    "        auth.set_access_token(access_token, access_secret)\n",
    "\n",
    "        twitter_stream = Stream(auth, TweetsListener(c_socket))\n",
    "        twitter_stream.filter(track=['army'])"
   ]
  },
  {
   "cell_type": "code",
   "execution_count": 4,
   "metadata": {},
   "outputs": [],
   "source": [
    "consumer_key='Z80DRI89sPY7In3wH1tBl8jHo'\n",
    "consumer_secret='XJyPCkWeKfwC4gwfN6dhK52hJiW1NXJpuEhWtSv2dpivPA2sou'\n",
    "access_token ='1043483407005691904-i0pT7mKBhqGsVSA3bKKCbkth6twi4F'\n",
    "access_secret='fBnYRYZKNgb29wgzthQ25aeGATyTBNXtVNbnsEzsUDavy'"
   ]
  },
  {
   "cell_type": "code",
   "execution_count": 5,
   "metadata": {},
   "outputs": [],
   "source": [
    "sc = SparkContext()\n",
    "ssc = StreamingContext(sc, 10 )\n",
    "sqlContext = SQLContext(sc)\n",
    "socket_stream = ssc.socketTextStream(\"127.0.0.1\", 5555)\n",
    "lines = socket_stream.window( 20 )\n",
    "fields = (\"tag\", \"count\" )\n",
    "Tweet = namedtuple( 'Tweet', fields )\n",
    "( lines.flatMap( lambda text: text.split( \" \" ) ) \n",
    "  .filter( lambda word: word.lower().startswith(\"#\") ) \n",
    "  .map( lambda word: ( word.lower(), 1 ) ) \n",
    "  .reduceByKey( lambda a, b: a + b ) \n",
    "  .map( lambda rec: Tweet( rec[0], rec[1] ) ) \n",
    "  .foreachRDD( lambda rdd: rdd.toDF().sort( desc(\"count\") ) \n",
    "  .limit(10).registerTempTable(\"tweets\") ) ) "
   ]
  },
  {
   "cell_type": "code",
   "execution_count": 6,
   "metadata": {},
   "outputs": [],
   "source": [
    "def plot_graph():\n",
    "    while True:\n",
    "        print(\"The data is refreshed every 30 seconds so next graph will be plotted after 30 seconds have elapsed.\")\n",
    "        top_10_tweets = sqlContext.sql( 'Select tag, count from tweets' )\n",
    "        top_10_df = top_10_tweets.toPandas()\n",
    "        display.clear_output(wait=True)\n",
    "        plt.figure( figsize = ( 16, 12 ) )\n",
    "        plt.tight_layout()\n",
    "        sns.barplot( x=\"count\", y=\"tag\", palette=\"rocket\", data=top_10_df)\n",
    "        plt.show()\n",
    "        time.sleep(30)\n",
    "    ssc.stop()"
   ]
  },
  {
   "cell_type": "code",
   "execution_count": 7,
   "metadata": {},
   "outputs": [],
   "source": [
    "def start():\n",
    "    t1=threading.Thread(target=create_socket)\n",
    "    t1.daemon = True\n",
    "    t1.start()\n",
    "    ssc.start()\n",
    "    print(\"Thread for socket started successfully. Starting streaming now\")\n",
    "    print(\"Fetching data from Twitter. First graph will be plotted after 30 seconds!\")\n",
    "    time.sleep(30)\n",
    "    t2=threading.Thread(target=plot_graph)\n",
    "    t2.start()"
   ]
  },
  {
   "cell_type": "code",
   "execution_count": 8,
   "metadata": {},
   "outputs": [
    {
     "data": {
      "image/png": "[encoded data removed]",
      "text/plain": [
       "<Figure size 1152x864 with 1 Axes>"
      ]
     },
     "metadata": {
      "needs_background": "light"
     },
     "output_type": "display_data"
    }
   ],
   "source": [
    "start()"
   ]
  },
  {
   "cell_type": "code",
   "execution_count": null,
   "metadata": {},
   "outputs": [],
   "source": []
  },
  {
   "cell_type": "code",
   "execution_count": null,
   "metadata": {},
   "outputs": [],
   "source": []
  },
  {
   "cell_type": "code",
   "execution_count": null,
   "metadata": {},
   "outputs": [],
   "source": []
  }
 ],
 "metadata": {
  "kernelspec": {
   "display_name": "Python 3",
   "language": "python",
   "name": "python3"
  },
  "language_info": {
   "codemirror_mode": {
    "name": "ipython",
    "version": 3
   },
   "file_extension": ".py",
   "mimetype": "text/x-python",
   "name": "python",
   "nbconvert_exporter": "python",
   "pygments_lexer": "ipython3",
   "version": "3.7.1"
  }
 },
 "nbformat": 4,
 "nbformat_minor": 2
}
